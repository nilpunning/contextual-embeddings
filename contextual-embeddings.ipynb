{
 "cells": [
  {
   "cell_type": "markdown",
   "metadata": {},
   "source": [
    "## XYZ\n",
    "\n",
    "> For while man strives he errs.  \n",
    "\n",
    "&mdash; [Goethe, *Faust, Part 1* (Kline translation).](https://www.gutenberg.org/files/14591/14591-h/14591-h.htm#PROLOGUE_IN_HEAVEN)\n",
    "\n",
    "It's great fun to chat with a large language model about a book you have both read.  But as the LLM is scaled down in size, the quality of the conversation diminishes proportionally.  This project is an experiment to see how a smaller size LLM will perform in this task if  retrieval augmented generation with contextual retrieval techinques are applied.  This Anthropic [blog post](https://www.anthropic.com/news/contextual-retrieval) and [guide](https://github.com/anthropics/anthropic-cookbook/blob/main/skills/contextual-embeddings/guide.ipynb) are used as a reference, but altered to work without third party services.\n",
    "\n",
    "How to get started:\n",
    "```bash\n",
    "docker compose up -d\n",
    "python3.9 -m venv venv\n",
    "source venv/bin/activate\n",
    "pip install -r requirements.txt\n",
    "```"
   ]
  },
  {
   "cell_type": "code",
   "execution_count": 261,
   "metadata": {},
   "outputs": [],
   "source": [
    "from itertools import repeat\n",
    "import json\n",
    "import math\n",
    "import multiprocessing\n",
    "import warnings\n",
    "from lxml import etree\n",
    "from more_itertools import chunked\n",
    "import ollama\n",
    "import psycopg\n",
    "from tqdm import tqdm\n",
    "\n",
    "warnings.filterwarnings(\"ignore\", category=DeprecationWarning) \n",
    "\n",
    "MODEL='llama3.2:1b'\n",
    "DB_DSN='host=127.0.0.1 port=5433 dbname=postgres user=postgres password=password'"
   ]
  },
  {
   "cell_type": "code",
   "execution_count": 24,
   "metadata": {},
   "outputs": [],
   "source": [
    "llm = ollama.Client(host='http://127.0.0.1:11435')"
   ]
  },
  {
   "cell_type": "code",
   "execution_count": 18,
   "metadata": {},
   "outputs": [
    {
     "data": {
      "text/plain": [
       "{'status': 'success'}"
      ]
     },
     "execution_count": 18,
     "metadata": {},
     "output_type": "execute_result"
    }
   ],
   "source": [
    "llm.pull(MODEL)"
   ]
  },
  {
   "cell_type": "code",
   "execution_count": 149,
   "metadata": {},
   "outputs": [],
   "source": [
    "def llm_generate(prompt, chunks):\n",
    "    # https://github.com/ollama/ollama-python\n",
    "    data = '\\n'.join([c[0] for c in chunks])\n",
    "    stream = llm.generate(\n",
    "        model=MODEL, \n",
    "        prompt=f'Using this data: \"{data}\". Respond to this prompt: {prompt}', \n",
    "        stream=True\n",
    "    )\n",
    "    for chunk in stream:\n",
    "        response = chunk['response']\n",
    "        print(response, end='', flush=True)"
   ]
  },
  {
   "cell_type": "markdown",
   "metadata": {},
   "source": [
    "### No RAG\n",
    "**Grade: D**\n",
    "\n",
    "It is confusing an American Western writer with Goethe.  The details of the deal are what makes it interesting and this answer is too vague."
   ]
  },
  {
   "cell_type": "code",
   "execution_count": 117,
   "metadata": {},
   "outputs": [
    {
     "name": "stdout",
     "output_type": "stream",
     "text": [
      "In Friedrich Schiller's drama \"Faust,\" not Johann Wolfgang von Goethe, it is actually Faust who makes a deal with the devil. \n",
      "\n",
      "According to the play, Faust agrees to renounce his mortal life and earthly pleasures in exchange for 24 years of supernatural knowledge, power, and pleasure from Mephistopheles. In return, Mephistopheles grants Faust mastery over fire and darkness, as well as the ability to shape-shift into various animals."
     ]
    }
   ],
   "source": [
    "PROMPT_BARGAIN = \"In Goethe's Faust what was the bargain he made with the devil?\"\n",
    "llm_generate(PROMPT_BARGAIN, [])"
   ]
  },
  {
   "cell_type": "code",
   "execution_count": 242,
   "metadata": {},
   "outputs": [],
   "source": [
    "def read_faust():\n",
    "    'Read the play and chunk it based on part, act, scene, and character speaking.'\n",
    "\n",
    "    # https://lxml.de/api.html#iteration\n",
    "    # https://shallowsky.com/blog/programming/parsing-html-python.html\n",
    "    \n",
    "    faust = 'Faust, Goethe & A. S. Kline.html'\n",
    "    iter = etree.iterparse(faust, html=True, events=('start', 'end'))\n",
    "\n",
    "    # skip header\n",
    "    for event, element in iter:\n",
    "        if event == 'start' and element.tag == 'body':\n",
    "            break\n",
    "\n",
    "    unwanted = {\n",
    "        'line-number',\n",
    "        'small-font'     # picture description\n",
    "    }\n",
    "\n",
    "    acc = ''\n",
    "    h1 = ''\n",
    "    h2 = ''\n",
    "    h3 = ''\n",
    "    character = ''\n",
    "\n",
    "    def chunk():\n",
    "        if acc.strip():\n",
    "            yield ((h1, h2, h3, character), acc)\n",
    "\n",
    "    for event, element in iter:\n",
    "        classes = set(element.attrib.get('class', '').split(' '))\n",
    "        text = (element.text or '').strip()\n",
    "        tail = (element.tail or '').strip()\n",
    "        if text and not classes & unwanted: \n",
    "            if event == 'start' and element.tag == 'h1':\n",
    "                yield from chunk()\n",
    "                acc = ''\n",
    "                h1 = text\n",
    "                h2 = ''\n",
    "                h3 = ''\n",
    "                character = ''\n",
    "            elif event == 'start' and element.tag == 'h2':\n",
    "                yield from chunk()\n",
    "                acc = ''\n",
    "                h2 = text\n",
    "                h3 = ''\n",
    "                character = ''\n",
    "            elif event == 'start' and element.tag == 'h3':\n",
    "                yield from chunk()\n",
    "                acc = ''\n",
    "                h3 = text\n",
    "                character = ''\n",
    "            elif event == 'start' and 'play-char' in classes:\n",
    "                yield from chunk()\n",
    "                acc = ''\n",
    "                character = text\n",
    "            elif event == 'start':\n",
    "                acc += text\n",
    "            elif event == 'end':\n",
    "                acc += tail\n",
    "                acc += '\\n'\n",
    "    yield from chunk()"
   ]
  },
  {
   "cell_type": "code",
   "execution_count": 243,
   "metadata": {},
   "outputs": [],
   "source": [
    "def read_faust_simple_context():\n",
    "    for ((context), acc) in read_faust():\n",
    "        yield f','.join(x for x in context if x) + '\\n' + acc"
   ]
  },
  {
   "cell_type": "code",
   "execution_count": 244,
   "metadata": {},
   "outputs": [],
   "source": [
    "# Debugging purposes\n",
    "with open('faust-chunks.txt', 'w') as f:\n",
    "    for chunk in read_faust_simple_context():\n",
    "        f.write(chunk)\n",
    "        f.write('================================================\\n')\n",
    "        f.flush()"
   ]
  },
  {
   "cell_type": "code",
   "execution_count": 92,
   "metadata": {},
   "outputs": [],
   "source": [
    "# Create the vector database table\n",
    "with psycopg.connect(DB_DSN) as conn:\n",
    "    with conn.cursor() as cursor:\n",
    "        cursor.execute(\"\"\"\n",
    "            CREATE EXTENSION vector;\n",
    "            CREATE TABLE embed (\n",
    "                id bigserial,\n",
    "                technique smallint,\n",
    "                value vector(2048),\n",
    "                chunk text\n",
    "            );\"\"\")\n",
    "        conn.commit()"
   ]
  },
  {
   "cell_type": "code",
   "execution_count": 265,
   "metadata": {},
   "outputs": [],
   "source": [
    "def insert_embeddings(technique, read_fn):\n",
    "    'Insert the play embeddings and chunks into the vector database'\n",
    "    # https://ollama.com/blog/embedding-models\n",
    "    # https://github.com/pgvector/pgvector/tree/master?tab=readme-ov-file#storing\n",
    "    num_embeddings = sum(1 for _ in read_faust())\n",
    "    with psycopg.connect(DB_DSN) as conn:\n",
    "        with conn.cursor() as cursor:\n",
    "            cpu_count = multiprocessing.cpu_count()\n",
    "            total = math.ceil(num_embeddings / cpu_count)\n",
    "            for chunks in tqdm(chunked(read_fn(), cpu_count), total=total):\n",
    "                resp = llm.embed(MODEL, chunks)\n",
    "                values = [json.dumps(e) for e in resp['embeddings']]\n",
    "                params = zip(repeat(technique), values, chunks)\n",
    "                cursor.executemany('INSERT INTO embed(technique, value, chunk) VALUES (%s, %s, %s);', params)\n",
    "                conn.commit()"
   ]
  },
  {
   "cell_type": "code",
   "execution_count": 158,
   "metadata": {},
   "outputs": [
    {
     "name": "stderr",
     "output_type": "stream",
     "text": [
      "100%|██████████| 261/261 [00:00<00:00, 1457.71it/s]\n"
     ]
    }
   ],
   "source": [
    "RAG = 0\n",
    "insert_embeddings(0, read_faust_simple_context)"
   ]
  },
  {
   "cell_type": "code",
   "execution_count": 253,
   "metadata": {},
   "outputs": [],
   "source": [
    "def retrieve_chunks(technique, prompt):\n",
    "    resp = llm.embed(MODEL, prompt)\n",
    "    query_param = json.dumps(resp['embeddings'][0])\n",
    "    with psycopg.connect(DB_DSN) as conn:\n",
    "        with conn.cursor() as cursor:\n",
    "            cursor.execute('SELECT chunk FROM embed WHERE technique=%s ORDER BY value <-> %s LIMIT 20;', [technique, query_param])\n",
    "            return cursor.fetchall()"
   ]
  },
  {
   "cell_type": "code",
   "execution_count": 255,
   "metadata": {},
   "outputs": [
    {
     "data": {
      "text/plain": [
       "[('Faust: Parts I & II,Act V,Scene VI: The Great Outer Court of the Palace,Chorus\\n\\n\\xa0\\n\\n\\n It’s past.\\n\\xa0\\n\\n\\n',),\n",
       " ('Faust: Parts I & II,Act V,Scene I: Open Country,The Wanderer\\n\\n\\n\\n\\n\\n\\xa0\\n\\n\\n Yes! Here are the dusky lindens,\\nStanding round, in mighty age.\\n\\nAnd here am I, returning to them, \\n\\nAfter so long a pilgrimage!\\n\\nIt still appears the same old place:\\n\\nHere’s the hut that sheltered me,\\n\\nWhen the storm-uplifted wave,\\n\\nHurled me shore-wards from the sea! \\n\\nMy hosts are those I would bless,\\n\\nA brave, a hospitable pair,\\n\\nWho if I meet them, I confess,\\n\\nMust already be white haired.\\n\\nAh! They were pious people! \\n\\nShall I call, or knock? – Greetings,\\n\\nIf, as open-hearted, you still\\n\\nEnjoy good luck, in meetings!\\n\\n\\xa0\\n\\n\\n',),\n",
       " ('Faust: Parts I & II,Part II,Scene III: A Spacious Hall with Adjoining Rooms,The Boy Charioteer\\n Let’s hear more! Go on: go on,\\nFind the riddle’s bright solution.\\n\\n\\xa0\\n\\n',),\n",
       " ('Faust: Parts I & II,Part I,Scene VI: The Witches’ Kitchen,Mephistopheles\\n A good glass of your well-known juice!\\nBut I must insist on the oldest: \\n\\nThe years double what it can do.\\n\\n\\xa0\\n\\n\\n',),\n",
       " ('Faust: Parts I & II,Part I,Scene XIV: Forest and Cavern,Faust\\n Sublime spirit, you gave me all, all,\\nI asked for. Not in vain have you\\n\\nRevealed your face to me in flame.\\n\\nYou gave me Nature’s realm of splendour, \\n\\nWith the power to feel it, and enjoy.\\n\\nNot merely as a cold, awed stranger,\\n\\nBut allowing me to look deep inside,\\n\\nLike seeing into the heart of a friend.\\n\\nYou lead the ranks of living creatures \\n\\nBefore me, showing me my brothers\\n\\nIn the silent woods, the air, the water.\\n\\nAnd when the storm roars in the forest,\\n\\nWhen giant firs fell their neighbours,\\n\\nCrushing nearby branches in their fall, \\n\\nFilling the hills with hollow thunder,\\n\\nYou lead me to the safety of a cave,\\n\\nShow me my own self, and reveal\\n\\nYour deep, secret wonders in my heart.\\n\\nAnd when the pure Moon, to my eyes, \\n\\nRises, calming me, the silvery visions\\n\\nOf former times, drift all around me,\\n\\nFrom high cliffs, and moist thickets,\\n\\nTempering thought’s austere delight.\\n\\nOh, I know now that nothing can be \\n\\nPerfect for Mankind. You gave me,\\n\\nWith this joy, that brings me nearer,\\n\\nNearer to the gods, a companion,\\n\\nWhom I can no longer do without,\\n\\nThough he is impudent, and chilling,\\n\\nDegrades me in my own eyes, and with \\n\\nA word, a breath, makes your gifts nothing.\\n\\nHe fans a wild fire in my heart,\\n\\nAlways alive to that lovely form.\\n\\nSo I rush from desire to enjoyment,\\n\\nAnd in enjoyment pine to feel desire. \\n\\n\\xa0\\n\\n(Mephistopheles enters.)\\n\\n\\n\\xa0\\n\\n\\n',),\n",
       " ('Faust: Parts I & II,Part II,Scene III: A Spacious Hall with Adjoining Rooms,The Boy Charioteer\\n I am Extravagance: I am Poetry:\\nI am the Poet, who is self-perfected\\n\\nWhen his special gift is squandered. \\n\\nYet I’m immeasurably wealthy,\\n\\nLike Plutus, worth as much as he,\\n\\nI adorn, enliven, dance and feast,\\n\\nAnd whatever he lacks, I complete.\\n\\n\\xa0\\n\\n\\n',),\n",
       " ('Faust: Parts I & II,Act II,Scene III: Classical Walpurgis Night. The Pharsalian Fields.,Faust\\n The sculptors never caught his form, \\nHowever many images they made.\\n\\nYou’ve spoken of the loveliest man,\\n\\nNow speak about the loveliest maid! \\n\\n\\xa0\\n\\n\\n',),\n",
       " ('Faust: Parts I & II,Part II,Scene IV: A Pleasure Garden in the Morning Sun,The Emperor\\n Just pick them up: those are all yours too. \\n(The Emperor exits.)\\n\\n\\n\\xa0\\n\\n\\n',),\n",
       " ('Faust: Parts I & II,Part I,Prologue In Heaven,Mephistopheles\\n That’s fine! There’s hardly any waiting. \\nMy wager’s more than safe I’m thinking.\\n\\nWhen I achieve my goal, in winning,\\n\\nYou’ll let me triumph with a swelling heart.\\n\\nHe’ll eat the dust, and with an art,\\n\\nLike the snake my mother, known for sinning. \\n\\n\\xa0\\n\\n\\n',),\n",
       " ('Faust: Parts I & II,Part I,Scene VII: A Street,Mephistopheles\\n A present? Good! He’s sure to work it!\\nI know many a lovely place, up here, \\n\\nAnd many an ancient buried treasure:\\n\\nI must have a look around for a bit.\\n\\n\\xa0\\n\\n(He exits.)\\n \\n\\n\\xa0\\n\\n\\n',),\n",
       " ('Faust: Parts I & II,Act IV,Scene I: High Mountains,Mephistopheles\\n What’s that to me! Let Nature be what she is!\\nThe Devil was there: that’s what I’d have you notice! \\n\\nWe’re the folk, you see, who achieve great things:\\n\\nThe signs are tumult, force, and what nonsense brings! –\\n\\nBut shall I make myself understood at last: it’s best:\\n\\nDid nothing at all of ours please you in the slightest?\\n\\nYou’ve looked down, from immeasurable heights, \\n\\nOn the riches of the world, and its splendid sights. (Matthew 4)\\n\\n\\nYet, hard as you may be to fire,\\n\\nDidn’t you feel some deep desire?\\n\\n\\xa0\\n\\n\\n',),\n",
       " ('Faust: Parts I & II,Part I,Scene IX: Promenade,Mephistopheles\\n Yes, gracious sir, gladly, with all my heart.\\n\\xa0\\n\\n(Faust exits.)\\n\\n\\n\\xa0\\n\\nSuch a lovesick fool would blow up the Sun,\\n\\nHigh up in the air, with the Moon and Stars,\\n\\nTo provide his sweetheart with a diversion.\\n\\n\\xa0\\n\\n(He exits.)\\n \\n\\n\\xa0\\n\\n\\n',),\n",
       " ('Faust: Parts I & II,Act II,Scene I: A High-Arched, Narrow, Gothic Chamber,Mephistopheles\\n I know you well: a student still, I see,\\nMossy Sir! After all, a learned man\\n\\nStudies hard, and does the best he can.\\n\\nSo one builds a respectable house of cards, \\n\\nThat greater minds can’t finish afterwards.\\n\\nBut he’s a witty fellow, is your master,\\n\\nWho doesn’t know the noble Doctor Wagner?\\n\\nHe’s the first in all the world of learning!\\n\\nHe’s unique: wisdom, each day increasing,\\n\\nAnd all of it he still holds together, \\n\\nCrowds, around him, panting, gather\\n\\nListeners, eaves’-droppers, welcome.\\n\\nAlone, he shines there at the rostrum.\\n\\nHe holds a key, just like Saint Peter, \\n\\nThat unlocks the lower, and the higher.\\n\\nHe glows and sparkles above the rest,\\n\\nNo name and fame has wider standing:\\n\\nEven that of Faust has dimmed, at best:\\n\\nHe’s the one who’s always inventing. \\n\\xa0\\n\\n\\n',),\n",
       " ('Faust: Parts I & II,Part I,Scene VI: The Witches’ Kitchen,Faust\\n Why talk this nonsense to us?\\nMy head’s near split in two.\\n\\nIt seems I hear the chorus, \\n\\nOf a hundred thousand fools. \\n\\n\\xa0\\n\\n\\n',),\n",
       " ('Faust: Parts I & II,Part I,Scene XII: The Garden,Faust\\n And you forgive the liberty I’ve taken,\\nThe impertinence of it all,\\n\\nJust as you were leaving the Cathedral?\\n\\n\\xa0\\n\\n\\n',),\n",
       " ('Faust: Parts I & II,Part I,Scene XXI: Walpurgis Night,Faust\\n Who?\\n\\xa0\\n\\n\\n',),\n",
       " ('Faust: Parts I & II,Act II,Scene II: A Laboratory,Mephistopheles\\n There’s many a Brocken trick I could display, \\nBut I find that Pagan bolts have barred the way.\\n\\nThe whole Greek race was never that much use!\\n\\nThey dazzle with the senses’ freer play: it’s true:\\n\\nThey lure the heart of man to happier sins:\\n\\nWhile ours, one always finds, are gloomy things. \\n\\nAnd now, what?\\n\\n\\xa0\\n\\n\\n',),\n",
       " ('Faust: Parts I & II,Act III,Act III Scene II: The Inner Court of The Castle,Faust\\n Would it were over then!\\nSuch entertainment\\n\\nWon’t delight me.\\n\\n\\xa0\\n\\n\\n',),\n",
       " ('Faust: Parts I & II,Part I,Scene III: The Study,Faust\\n How are you named?\\n\\xa0\\n\\n\\n',),\n",
       " ('Faust: Parts I & II,Act III,Act III Scene II: The Inner Court of The Castle,Helen\\n It requires two noble hearts\\nFor Love to bless humanity, \\n\\nBut to be a thing apart\\n\\nThey must make a precious three.\\n\\n\\xa0\\n\\n\\n',)]"
      ]
     },
     "execution_count": 255,
     "metadata": {},
     "output_type": "execute_result"
    }
   ],
   "source": [
    "chunks = retrieve_chunks(RAG, PROMPT_BARGAIN)\n",
    "chunks"
   ]
  },
  {
   "cell_type": "markdown",
   "metadata": {},
   "source": [
    "### RAG\n",
    "**Grade: C-**\n",
    "\n",
    "A little better than last time, at least it's not confusing the author.  There are a lot more details, but unfortunately most are wrong."
   ]
  },
  {
   "cell_type": "code",
   "execution_count": 256,
   "metadata": {},
   "outputs": [
    {
     "name": "stdout",
     "output_type": "stream",
     "text": [
      "In Johann Wolfgang von Goethe's Faust, the titular character makes a pact with the devil Mephistopheles in exchange for six years of his immortal life. This bargain is negotiated in Act V, Scene VI of both parts I and II.\n",
      "\n",
      "According to the terms of their agreement, Faust agrees to use his immortal life to achieve three earthly goals:\n",
      "\n",
      "1. To win over and marry the beautiful Helen Schmid (Act III, Scene IV)\n",
      "2. To learn Greek and become a scholar, thereby gaining knowledge and wisdom (Act IV, Scene I)\n",
      "3. To acquire the power of eloquence and persuade the crowd, thereby achieving fame and success\n",
      "\n",
      "In return, Mephistopheles agrees to grant Faust six years of his immortal life in exchange for these three earthly goals. The devil promises that Faust will achieve all three of these goals within the specified timeframe.\n",
      "\n",
      "It is worth noting that Goethe's Faust is a tragic work, and the bargain made by Faust ultimately leads to his downfall. Despite achieving some of his earthly goals, Faust is unable to outlive Mephistopheles and remains mortal throughout the remainder of the story."
     ]
    }
   ],
   "source": [
    "llm_generate(PROMPT_BARGAIN, chunks)"
   ]
  },
  {
   "cell_type": "code",
   "execution_count": 250,
   "metadata": {},
   "outputs": [],
   "source": [
    "def read_faust_better_context(debug=False):\n",
    "    \"Faust is really long and exceeds ollama3.2's context window, so adding the context per scene.\"\n",
    "    current_scene = (None, None, None)\n",
    "    dialog = []\n",
    "\n",
    "    def chunk():\n",
    "        dialog_body = '\\n'.join(dialog)\n",
    "        if debug:\n",
    "            dialog_body = dialog_body[:20] + '...' + dialog_body[-20:]\n",
    "        scene_body = 'In ' + f','.join(x for x in current_scene if x) + '\\n' + dialog_body\n",
    "        for quote in dialog:\n",
    "            yield scene_body, quote\n",
    "\n",
    "    for ((document, part_or_act, scene, character), quote) in read_faust():\n",
    "        if current_scene != (document, part_or_act, scene):\n",
    "            yield from chunk()\n",
    "            dialog = []\n",
    "        \n",
    "        if character:\n",
    "            quote = f'{character} says:\\n{quote}'\n",
    "\n",
    "        dialog += [quote]\n",
    "        current_scene = (document, part_or_act, scene)\n",
    "    yield from chunk()"
   ]
  },
  {
   "cell_type": "code",
   "execution_count": 251,
   "metadata": {},
   "outputs": [],
   "source": [
    "# Debugging purposes\n",
    "with open('faust-context-chunks.txt', 'w') as f:\n",
    "    for scene_body, quote in read_faust_better_context(True):\n",
    "        f.write(scene_body)\n",
    "        f.write('~~~~~~~~~~~~~~~~~~~~~~~~~~~~~~~~~~~~~~~~~~~~~~~~\\n')\n",
    "        f.write(quote)\n",
    "        f.write('================================================\\n')\n",
    "        f.flush()"
   ]
  },
  {
   "cell_type": "code",
   "execution_count": 258,
   "metadata": {},
   "outputs": [],
   "source": [
    "CONTEXT_PROMPT = '''\n",
    "<scene> \n",
    "{} \n",
    "</scene> \n",
    "Here is the chunk we want to situate within the whole scene.\n",
    "<chunk> \n",
    "{} \n",
    "</chunk> \n",
    "Please give a short succinct context to situate this chunk within the overall document for the purposes of improving search retrieval of the chunk. Answer only with the succinct context and nothing else. \n",
    "'''\n",
    "\n",
    "def read_faust_and_add_context():\n",
    "    for scene_body, quote in read_faust_better_context():\n",
    "        context = llm.generate(\n",
    "            model=MODEL, \n",
    "            prompt=CONTEXT_PROMPT.format(scene_body, quote)\n",
    "        )['response']\n",
    "        yield f'{quote}\\n\\n{context}'"
   ]
  },
  {
   "cell_type": "code",
   "execution_count": 266,
   "metadata": {},
   "outputs": [
    {
     "name": "stderr",
     "output_type": "stream",
     "text": [
      "  4%|▍         | 10/261 [2:52:14<78:43:25, 1129.10s/it]"
     ]
    }
   ],
   "source": [
    "CONTEXTUAL_EMBEDDING = 1\n",
    "insert_embeddings(CONTEXTUAL_EMBEDDING, read_faust_and_add_context)"
   ]
  },
  {
   "cell_type": "code",
   "execution_count": 236,
   "metadata": {},
   "outputs": [
    {
     "data": {
      "text/plain": [
       "{'model': 'llama3.2:1b',\n",
       " 'created_at': '2024-10-11T00:55:22.313670626Z',\n",
       " 'response': 'The color of the sky varies depending on the time of day and atmospheric conditions. At sunrise and sunset, the sky often appears pinkish or reddish due to scattering of light by atmospheric particles. During daytime, the sky typically appears blue.',\n",
       " 'done': True,\n",
       " 'done_reason': 'stop',\n",
       " 'context': [128006,\n",
       "  9125,\n",
       "  128007,\n",
       "  271,\n",
       "  38766,\n",
       "  1303,\n",
       "  33025,\n",
       "  2696,\n",
       "  25,\n",
       "  6790,\n",
       "  220,\n",
       "  2366,\n",
       "  18,\n",
       "  271,\n",
       "  128009,\n",
       "  128006,\n",
       "  882,\n",
       "  128007,\n",
       "  271,\n",
       "  5618,\n",
       "  3041,\n",
       "  264,\n",
       "  2875,\n",
       "  99732,\n",
       "  4320,\n",
       "  11,\n",
       "  1148,\n",
       "  1933,\n",
       "  374,\n",
       "  279,\n",
       "  13180,\n",
       "  30,\n",
       "  128009,\n",
       "  128006,\n",
       "  78191,\n",
       "  128007,\n",
       "  271,\n",
       "  791,\n",
       "  1933,\n",
       "  315,\n",
       "  279,\n",
       "  13180,\n",
       "  35327,\n",
       "  11911,\n",
       "  389,\n",
       "  279,\n",
       "  892,\n",
       "  315,\n",
       "  1938,\n",
       "  323,\n",
       "  45475,\n",
       "  4787,\n",
       "  13,\n",
       "  2468,\n",
       "  64919,\n",
       "  323,\n",
       "  44084,\n",
       "  11,\n",
       "  279,\n",
       "  13180,\n",
       "  3629,\n",
       "  8111,\n",
       "  18718,\n",
       "  819,\n",
       "  477,\n",
       "  63244,\n",
       "  819,\n",
       "  4245,\n",
       "  311,\n",
       "  72916,\n",
       "  315,\n",
       "  3177,\n",
       "  555,\n",
       "  45475,\n",
       "  19252,\n",
       "  13,\n",
       "  12220,\n",
       "  62182,\n",
       "  11,\n",
       "  279,\n",
       "  13180,\n",
       "  11383,\n",
       "  8111,\n",
       "  6437,\n",
       "  13],\n",
       " 'total_duration': 23999012752,\n",
       " 'load_duration': 13145435561,\n",
       " 'prompt_eval_count': 38,\n",
       " 'prompt_eval_duration': 3924006000,\n",
       " 'eval_count': 49,\n",
       " 'eval_duration': 6909295000}"
      ]
     },
     "execution_count": 236,
     "metadata": {},
     "output_type": "execute_result"
    }
   ],
   "source": [
    "llm.generate(\n",
    "        model=MODEL, \n",
    "        prompt=f'Please give a short succinct answer, what color is the sky?'\n",
    "    )"
   ]
  },
  {
   "cell_type": "code",
   "execution_count": null,
   "metadata": {},
   "outputs": [],
   "source": []
  }
 ],
 "metadata": {
  "kernelspec": {
   "display_name": ".venv",
   "language": "python",
   "name": "python3"
  },
  "language_info": {
   "codemirror_mode": {
    "name": "ipython",
    "version": 3
   },
   "file_extension": ".py",
   "mimetype": "text/x-python",
   "name": "python",
   "nbconvert_exporter": "python",
   "pygments_lexer": "ipython3",
   "version": "3.9.5"
  }
 },
 "nbformat": 4,
 "nbformat_minor": 2
}
